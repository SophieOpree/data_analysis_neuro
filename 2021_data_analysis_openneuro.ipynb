{
 "cells": [
  {
   "cell_type": "markdown",
   "id": "ea4f4ded",
   "metadata": {},
   "source": [
    "# Data analysis"
   ]
  },
  {
   "cell_type": "markdown",
   "id": "c673dc26",
   "metadata": {},
   "source": [
    "## 1. Data exploration"
   ]
  },
  {
   "cell_type": "markdown",
   "id": "6c0c94f8",
   "metadata": {},
   "source": [
    "### 1.1 The dataset"
   ]
  },
  {
   "cell_type": "markdown",
   "id": "12150001",
   "metadata": {},
   "source": [
    "The set of data which will be analyzed in this jupyter notebook stems from an open source dataset which can be found at OpenNeuro:\n",
    "\n",
    "Zareba, M.R., Fafrowicz, M., Marek, T., Beldzik, E., Oginska, H., & Domagalik, A. (2022). Structural (t1) images of 136 young healthy adults; study of effects of chronotype, sleep quality and daytime sleepiness on brain structure. OpenNeuro. [Dataset] doi:10.18112/openneuro.ds003826.v3.0.0\n",
    "\n",
    "The dataset contains 136 participants and 10 variables. The data were collected to explore circadian rythmicity and more precisely, to research structural brain correlates of human chronotypes."
   ]
  },
  {
   "cell_type": "markdown",
   "id": "754cb2bb",
   "metadata": {},
   "source": [
    "The following variables are part of the dataset:\n",
    "\n",
    "| Variable | Description |\n",
    "| --- | --- |\n",
    "| participant_id | Code of each participant |\n",
    "| age | Age of each participant |\n",
    "| sex | Sex of each participant as reported by the participant |\n",
    "| group | Experimental group the participant was classified to (EC: early chronotype or LC: late chronotype) |\n",
    "| ChQ-ME (CHQME)* | Morningness-eveningness scale of Chronotype Questionnaire |\n",
    "| ChQ-AM (CHQAM)* | Amplitude scale of Chronotype Questionnaire |\n",
    "| PSQI | Overall score in Pittsburgh Sleep Quality Index |\n",
    "| ESS | Overall score in Epworth Sleepiness Scale |\n",
    "| Published | Indication whether the data of a given participant was used in a published work |\n",
    "| L_Ent/FFG_CTh (LEFG)* | Mean cortical thickness within the significant cluster in the left entorhinal and fusiform gyri from the published research article |\n",
    "\n",
    "*Renamed within the course of the data analysis"
   ]
  },
  {
   "cell_type": "markdown",
   "id": "9ca6d21d",
   "metadata": {},
   "source": [
    "The planned analyses entail the following:\n",
    "- Read the dataset\n",
    "- Explore the dataset and get a general overview, including a descriptive summary, data types, distributions\n",
    "- Check for outliers and missing values\n",
    "- Conduct descriptive analyses: descriptive statistics of dataset and subsets\n",
    "- Conduct inferential analyses\n",
    "    - Compute correlations between all interval scaled variables\n",
    "    - Compute t-Test between EC and LC groups regarding LEFG\n",
    "    - Calculate regression model with LEFG as dependent variable and CHQAM as predictor"
   ]
  },
  {
   "cell_type": "markdown",
   "id": "e2a3d8b8",
   "metadata": {},
   "source": [
    "How will the respective steps be implemented:\n",
    "- Read the data, data wrangling with the pandas module and explore the dataset a bit with some built-in functions\n",
    "- Data visualization with matplotlib, seaborn\n",
    "- Data analyses and statistics with numpy, statsmodels and pingouin"
   ]
  },
  {
   "cell_type": "markdown",
   "id": "3295ec44",
   "metadata": {},
   "source": [
    "### 1.2 Reading data"
   ]
  },
  {
   "cell_type": "code",
   "execution_count": 1,
   "id": "5a0644a3",
   "metadata": {},
   "outputs": [
    {
     "data": {
      "text/html": [
       "<div>\n",
       "<style scoped>\n",
       "    .dataframe tbody tr th:only-of-type {\n",
       "        vertical-align: middle;\n",
       "    }\n",
       "\n",
       "    .dataframe tbody tr th {\n",
       "        vertical-align: top;\n",
       "    }\n",
       "\n",
       "    .dataframe thead th {\n",
       "        text-align: right;\n",
       "    }\n",
       "</style>\n",
       "<table border=\"1\" class=\"dataframe\">\n",
       "  <thead>\n",
       "    <tr style=\"text-align: right;\">\n",
       "      <th></th>\n",
       "      <th>participant_id</th>\n",
       "      <th>age</th>\n",
       "      <th>sex</th>\n",
       "      <th>group</th>\n",
       "      <th>ChQ-ME</th>\n",
       "      <th>ChQ-AM</th>\n",
       "      <th>PSQI</th>\n",
       "      <th>ESS</th>\n",
       "      <th>Published</th>\n",
       "      <th>L_Ent/FFG_CTh</th>\n",
       "    </tr>\n",
       "  </thead>\n",
       "  <tbody>\n",
       "    <tr>\n",
       "      <th>0</th>\n",
       "      <td>sub-02</td>\n",
       "      <td>33</td>\n",
       "      <td>M</td>\n",
       "      <td>EC</td>\n",
       "      <td>19</td>\n",
       "      <td>17</td>\n",
       "      <td>4</td>\n",
       "      <td>4</td>\n",
       "      <td>Yes</td>\n",
       "      <td>2.221920</td>\n",
       "    </tr>\n",
       "    <tr>\n",
       "      <th>1</th>\n",
       "      <td>sub-03</td>\n",
       "      <td>22</td>\n",
       "      <td>M</td>\n",
       "      <td>EC</td>\n",
       "      <td>17</td>\n",
       "      <td>16</td>\n",
       "      <td>3</td>\n",
       "      <td>11</td>\n",
       "      <td>No</td>\n",
       "      <td>NaN</td>\n",
       "    </tr>\n",
       "    <tr>\n",
       "      <th>2</th>\n",
       "      <td>sub-04</td>\n",
       "      <td>26</td>\n",
       "      <td>F</td>\n",
       "      <td>EC</td>\n",
       "      <td>20</td>\n",
       "      <td>20</td>\n",
       "      <td>1</td>\n",
       "      <td>10</td>\n",
       "      <td>Yes</td>\n",
       "      <td>2.612423</td>\n",
       "    </tr>\n",
       "    <tr>\n",
       "      <th>3</th>\n",
       "      <td>sub-05</td>\n",
       "      <td>28</td>\n",
       "      <td>F</td>\n",
       "      <td>LC</td>\n",
       "      <td>23</td>\n",
       "      <td>20</td>\n",
       "      <td>7</td>\n",
       "      <td>13</td>\n",
       "      <td>No</td>\n",
       "      <td>NaN</td>\n",
       "    </tr>\n",
       "    <tr>\n",
       "      <th>4</th>\n",
       "      <td>sub-07</td>\n",
       "      <td>27</td>\n",
       "      <td>M</td>\n",
       "      <td>EC</td>\n",
       "      <td>21</td>\n",
       "      <td>16</td>\n",
       "      <td>4</td>\n",
       "      <td>8</td>\n",
       "      <td>Yes</td>\n",
       "      <td>2.528243</td>\n",
       "    </tr>\n",
       "    <tr>\n",
       "      <th>5</th>\n",
       "      <td>sub-08</td>\n",
       "      <td>22</td>\n",
       "      <td>F</td>\n",
       "      <td>EC</td>\n",
       "      <td>15</td>\n",
       "      <td>19</td>\n",
       "      <td>1</td>\n",
       "      <td>4</td>\n",
       "      <td>Yes</td>\n",
       "      <td>3.427409</td>\n",
       "    </tr>\n",
       "    <tr>\n",
       "      <th>6</th>\n",
       "      <td>sub-09</td>\n",
       "      <td>35</td>\n",
       "      <td>F</td>\n",
       "      <td>EC</td>\n",
       "      <td>12</td>\n",
       "      <td>22</td>\n",
       "      <td>1</td>\n",
       "      <td>4</td>\n",
       "      <td>No</td>\n",
       "      <td>NaN</td>\n",
       "    </tr>\n",
       "    <tr>\n",
       "      <th>7</th>\n",
       "      <td>sub-10</td>\n",
       "      <td>22</td>\n",
       "      <td>F</td>\n",
       "      <td>EC</td>\n",
       "      <td>19</td>\n",
       "      <td>24</td>\n",
       "      <td>6</td>\n",
       "      <td>10</td>\n",
       "      <td>No</td>\n",
       "      <td>NaN</td>\n",
       "    </tr>\n",
       "    <tr>\n",
       "      <th>8</th>\n",
       "      <td>sub-11</td>\n",
       "      <td>26</td>\n",
       "      <td>M</td>\n",
       "      <td>EC</td>\n",
       "      <td>18</td>\n",
       "      <td>20</td>\n",
       "      <td>3</td>\n",
       "      <td>9</td>\n",
       "      <td>No</td>\n",
       "      <td>NaN</td>\n",
       "    </tr>\n",
       "    <tr>\n",
       "      <th>9</th>\n",
       "      <td>sub-13</td>\n",
       "      <td>23</td>\n",
       "      <td>F</td>\n",
       "      <td>EC</td>\n",
       "      <td>17</td>\n",
       "      <td>21</td>\n",
       "      <td>3</td>\n",
       "      <td>11</td>\n",
       "      <td>No</td>\n",
       "      <td>NaN</td>\n",
       "    </tr>\n",
       "  </tbody>\n",
       "</table>\n",
       "</div>"
      ],
      "text/plain": [
       "  participant_id  age sex group  ChQ-ME  ChQ-AM  PSQI  ESS Published  \\\n",
       "0         sub-02   33   M    EC      19      17     4    4       Yes   \n",
       "1         sub-03   22   M    EC      17      16     3   11        No   \n",
       "2         sub-04   26   F    EC      20      20     1   10       Yes   \n",
       "3         sub-05   28   F    LC      23      20     7   13        No   \n",
       "4         sub-07   27   M    EC      21      16     4    8       Yes   \n",
       "5         sub-08   22   F    EC      15      19     1    4       Yes   \n",
       "6         sub-09   35   F    EC      12      22     1    4        No   \n",
       "7         sub-10   22   F    EC      19      24     6   10        No   \n",
       "8         sub-11   26   M    EC      18      20     3    9        No   \n",
       "9         sub-13   23   F    EC      17      21     3   11        No   \n",
       "\n",
       "   L_Ent/FFG_CTh  \n",
       "0       2.221920  \n",
       "1            NaN  \n",
       "2       2.612423  \n",
       "3            NaN  \n",
       "4       2.528243  \n",
       "5       3.427409  \n",
       "6            NaN  \n",
       "7            NaN  \n",
       "8            NaN  \n",
       "9            NaN  "
      ]
     },
     "execution_count": 1,
     "metadata": {},
     "output_type": "execute_result"
    }
   ],
   "source": [
    "# load the data file via python and pandas module\n",
    "\n",
    "import pandas as pd\n",
    "data_set = pd.read_csv(\"#path\")\n",
    "# show first 10 rows\n",
    "data_set.head(n = 10)"
   ]
  },
  {
   "cell_type": "code",
   "execution_count": 2,
   "id": "c3845b95",
   "metadata": {},
   "outputs": [
    {
     "name": "stdout",
     "output_type": "stream",
     "text": [
      "10\n",
      "The number of variables in the loaded dataset is identical with the number of variables on the website.\n"
     ]
    }
   ],
   "source": [
    "# check if number of variables in loaded dataset matches number of variables indicated in the description of the experiment\n",
    "\n",
    "print(len(data_set.columns))\n",
    "\n",
    "if len(data_set.columns) > 10:\n",
    "    print(\"The number of variables in the loaded dataset is higher than the number of variables on the website.\")\n",
    "elif len(data_set.columns) < 10:\n",
    "    print(\"The number of variables in the loaded dataset is lower than the number of variables on the website.\")\n",
    "elif len(data_set.columns) == 10: \n",
    "    print(\"The number of variables in the loaded dataset is identical with the number of variables on the website.\")"
   ]
  },
  {
   "cell_type": "markdown",
   "id": "48929ca7",
   "metadata": {},
   "source": [
    "### 1.3 Exploring data"
   ]
  },
  {
   "cell_type": "markdown",
   "id": "dee683a4",
   "metadata": {},
   "source": [
    "#### 1.3.1 Data types and variables"
   ]
  },
  {
   "cell_type": "code",
   "execution_count": 3,
   "id": "fd40e303",
   "metadata": {},
   "outputs": [
    {
     "data": {
      "text/plain": [
       "pandas.core.frame.DataFrame"
      ]
     },
     "execution_count": 3,
     "metadata": {},
     "output_type": "execute_result"
    }
   ],
   "source": [
    "# check data type of the dataset\n",
    "\n",
    "type(data_set)"
   ]
  },
  {
   "cell_type": "code",
   "execution_count": 4,
   "id": "546a5a7f",
   "metadata": {},
   "outputs": [
    {
     "data": {
      "text/plain": [
       "participant_id     object\n",
       "age                 int64\n",
       "sex                object\n",
       "group              object\n",
       "ChQ-ME              int64\n",
       "ChQ-AM              int64\n",
       "PSQI                int64\n",
       "ESS                 int64\n",
       "Published          object\n",
       "L_Ent/FFG_CTh     float64\n",
       "dtype: object"
      ]
     },
     "execution_count": 4,
     "metadata": {},
     "output_type": "execute_result"
    }
   ],
   "source": [
    "# check data type of variables\n",
    "\n",
    "data_set.dtypes"
   ]
  },
  {
   "cell_type": "markdown",
   "id": "b84ef001",
   "metadata": {},
   "source": [
    "#### 1.3.2 Summary of the dataset"
   ]
  },
  {
   "cell_type": "code",
   "execution_count": 5,
   "id": "df8d3290",
   "metadata": {},
   "outputs": [
    {
     "data": {
      "text/plain": [
       "(136, 10)"
      ]
     },
     "execution_count": 5,
     "metadata": {},
     "output_type": "execute_result"
    }
   ],
   "source": [
    "# get dimensions of the dataset\n",
    "\n",
    "data_set.shape"
   ]
  },
  {
   "cell_type": "code",
   "execution_count": 6,
   "id": "ac5b4b95",
   "metadata": {},
   "outputs": [
    {
     "data": {
      "text/plain": [
       "Index(['participant_id', 'age', 'sex', 'group', 'ChQ-ME', 'ChQ-AM', 'PSQI',\n",
       "       'ESS', 'Published', 'L_Ent/FFG_CTh'],\n",
       "      dtype='object')"
      ]
     },
     "execution_count": 6,
     "metadata": {},
     "output_type": "execute_result"
    }
   ],
   "source": [
    "# display columns\n",
    "\n",
    "data_set.columns"
   ]
  },
  {
   "cell_type": "code",
   "execution_count": 7,
   "id": "0016b02f",
   "metadata": {},
   "outputs": [
    {
     "data": {
      "text/plain": [
       "RangeIndex(start=0, stop=136, step=1)"
      ]
     },
     "execution_count": 7,
     "metadata": {},
     "output_type": "execute_result"
    }
   ],
   "source": [
    "# access index\n",
    "\n",
    "data_set.index"
   ]
  },
  {
   "cell_type": "code",
   "execution_count": 8,
   "id": "4be9c3ba",
   "metadata": {},
   "outputs": [
    {
     "data": {
      "text/html": [
       "<div>\n",
       "<style scoped>\n",
       "    .dataframe tbody tr th:only-of-type {\n",
       "        vertical-align: middle;\n",
       "    }\n",
       "\n",
       "    .dataframe tbody tr th {\n",
       "        vertical-align: top;\n",
       "    }\n",
       "\n",
       "    .dataframe thead th {\n",
       "        text-align: right;\n",
       "    }\n",
       "</style>\n",
       "<table border=\"1\" class=\"dataframe\">\n",
       "  <thead>\n",
       "    <tr style=\"text-align: right;\">\n",
       "      <th></th>\n",
       "      <th>age</th>\n",
       "      <th>ChQ-ME</th>\n",
       "      <th>ChQ-AM</th>\n",
       "      <th>PSQI</th>\n",
       "      <th>ESS</th>\n",
       "      <th>L_Ent/FFG_CTh</th>\n",
       "    </tr>\n",
       "  </thead>\n",
       "  <tbody>\n",
       "    <tr>\n",
       "      <th>count</th>\n",
       "      <td>136.000000</td>\n",
       "      <td>136.000000</td>\n",
       "      <td>136.000000</td>\n",
       "      <td>136.000000</td>\n",
       "      <td>136.000000</td>\n",
       "      <td>113.000000</td>\n",
       "    </tr>\n",
       "    <tr>\n",
       "      <th>mean</th>\n",
       "      <td>24.330882</td>\n",
       "      <td>21.720588</td>\n",
       "      <td>20.808824</td>\n",
       "      <td>3.073529</td>\n",
       "      <td>7.066176</td>\n",
       "      <td>2.802199</td>\n",
       "    </tr>\n",
       "    <tr>\n",
       "      <th>std</th>\n",
       "      <td>3.729870</td>\n",
       "      <td>5.632829</td>\n",
       "      <td>3.744655</td>\n",
       "      <td>1.401757</td>\n",
       "      <td>3.513365</td>\n",
       "      <td>0.344349</td>\n",
       "    </tr>\n",
       "    <tr>\n",
       "      <th>min</th>\n",
       "      <td>18.000000</td>\n",
       "      <td>11.000000</td>\n",
       "      <td>11.000000</td>\n",
       "      <td>0.000000</td>\n",
       "      <td>0.000000</td>\n",
       "      <td>2.148740</td>\n",
       "    </tr>\n",
       "    <tr>\n",
       "      <th>25%</th>\n",
       "      <td>22.000000</td>\n",
       "      <td>17.000000</td>\n",
       "      <td>18.000000</td>\n",
       "      <td>2.000000</td>\n",
       "      <td>5.000000</td>\n",
       "      <td>2.550988</td>\n",
       "    </tr>\n",
       "    <tr>\n",
       "      <th>50%</th>\n",
       "      <td>23.000000</td>\n",
       "      <td>21.500000</td>\n",
       "      <td>21.000000</td>\n",
       "      <td>3.000000</td>\n",
       "      <td>7.000000</td>\n",
       "      <td>2.749730</td>\n",
       "    </tr>\n",
       "    <tr>\n",
       "      <th>75%</th>\n",
       "      <td>26.000000</td>\n",
       "      <td>27.000000</td>\n",
       "      <td>24.000000</td>\n",
       "      <td>4.000000</td>\n",
       "      <td>9.000000</td>\n",
       "      <td>3.011604</td>\n",
       "    </tr>\n",
       "    <tr>\n",
       "      <th>max</th>\n",
       "      <td>35.000000</td>\n",
       "      <td>32.000000</td>\n",
       "      <td>29.000000</td>\n",
       "      <td>9.000000</td>\n",
       "      <td>17.000000</td>\n",
       "      <td>3.773190</td>\n",
       "    </tr>\n",
       "  </tbody>\n",
       "</table>\n",
       "</div>"
      ],
      "text/plain": [
       "              age      ChQ-ME      ChQ-AM        PSQI         ESS  \\\n",
       "count  136.000000  136.000000  136.000000  136.000000  136.000000   \n",
       "mean    24.330882   21.720588   20.808824    3.073529    7.066176   \n",
       "std      3.729870    5.632829    3.744655    1.401757    3.513365   \n",
       "min     18.000000   11.000000   11.000000    0.000000    0.000000   \n",
       "25%     22.000000   17.000000   18.000000    2.000000    5.000000   \n",
       "50%     23.000000   21.500000   21.000000    3.000000    7.000000   \n",
       "75%     26.000000   27.000000   24.000000    4.000000    9.000000   \n",
       "max     35.000000   32.000000   29.000000    9.000000   17.000000   \n",
       "\n",
       "       L_Ent/FFG_CTh  \n",
       "count     113.000000  \n",
       "mean        2.802199  \n",
       "std         0.344349  \n",
       "min         2.148740  \n",
       "25%         2.550988  \n",
       "50%         2.749730  \n",
       "75%         3.011604  \n",
       "max         3.773190  "
      ]
     },
     "execution_count": 8,
     "metadata": {},
     "output_type": "execute_result"
    }
   ],
   "source": [
    "# summary of the dataset\n",
    "\n",
    "data_set.describe()"
   ]
  },
  {
   "cell_type": "code",
   "execution_count": 9,
   "id": "b8619df0",
   "metadata": {},
   "outputs": [
    {
     "data": {
      "text/plain": [
       "EC    0.5\n",
       "LC    0.5\n",
       "Name: group, dtype: float64"
      ]
     },
     "execution_count": 9,
     "metadata": {},
     "output_type": "execute_result"
    }
   ],
   "source": [
    "# display proportions of experimental groups\n",
    "\n",
    "data_set.group.value_counts(\"EC\")\n",
    "\n",
    "# equal distribution of participants across the two groups"
   ]
  },
  {
   "cell_type": "code",
   "execution_count": 10,
   "id": "3c907bc2",
   "metadata": {},
   "outputs": [
    {
     "name": "stdout",
     "output_type": "stream",
     "text": [
      "Yes    113\n",
      "No      23\n",
      "Name: Published, dtype: int64\n"
     ]
    },
    {
     "data": {
      "text/plain": [
       "<AxesSubplot:title={'center':'Share of published vs. non-published data'}, ylabel='Share'>"
      ]
     },
     "execution_count": 10,
     "metadata": {},
     "output_type": "execute_result"
    },
    {
     "data": {
      "image/png": "[encoded data removed]",
      "text/plain": [
       "<Figure size 432x288 with 1 Axes>"
      ]
     },
     "metadata": {
      "needs_background": "light"
     },
     "output_type": "display_data"
    }
   ],
   "source": [
    "# show frequencies of published vs. non-published data\n",
    "\n",
    "print(data_set.Published.value_counts())\n",
    "data_set[\"Published\"].value_counts().plot(kind = \"bar\", color = \"purple\", alpha = 0.7, grid = True, rot = 45, title = \"Share of published vs. non-published data\", ylabel = \"Share\")"
   ]
  },
  {
   "cell_type": "markdown",
   "id": "b0b5cb11",
   "metadata": {},
   "source": [
    "### 1.4 Data wrangling"
   ]
  },
  {
   "cell_type": "markdown",
   "id": "fe69b0be",
   "metadata": {},
   "source": [
    "#### 1.4.1 Rename variables"
   ]
  },
  {
   "cell_type": "code",
   "execution_count": 11,
   "id": "945e43d3",
   "metadata": {},
   "outputs": [
    {
     "name": "stdout",
     "output_type": "stream",
     "text": [
      "    participant_id  age sex group  CHQME  CHQAM  PSQI  ESS Published      LEFG\n",
      "0           sub-02   33   M    EC     19     17     4    4       Yes  2.221920\n",
      "1           sub-03   22   M    EC     17     16     3   11        No       NaN\n",
      "2           sub-04   26   F    EC     20     20     1   10       Yes  2.612423\n",
      "3           sub-05   28   F    LC     23     20     7   13        No       NaN\n",
      "4           sub-07   27   M    EC     21     16     4    8       Yes  2.528243\n",
      "..             ...  ...  ..   ...    ...    ...   ...  ...       ...       ...\n",
      "131        sub-142   25   F    EC     18     22     4    4       Yes  2.997560\n",
      "132        sub-143   23   F    LC     24     18     1    1       Yes  2.750960\n",
      "133        sub-144   23   F    LC     22     27     4   11        No       NaN\n",
      "134        sub-145   32   F    LC     23     15     1    6       Yes  2.558474\n",
      "135        sub-146   24   F    EC     16     25     3    3       Yes  2.749730\n",
      "\n",
      "[136 rows x 10 columns]\n"
     ]
    }
   ],
   "source": [
    "# Rename ChQ-ME, ChQ-AM, L_Ent/FFG_CTh for reasons of convenience and better usability in later analyses\n",
    "\n",
    "data_set = data_set.rename(columns = {\"ChQ-ME\":\"CHQME\", \"ChQ-AM\":\"CHQAM\", \"L_Ent/FFG_CTh\":\"LEFG\"})\n",
    "print(data_set)"
   ]
  },
  {
   "cell_type": "markdown",
   "id": "84f05127",
   "metadata": {},
   "source": [
    "#### 1.4.2 Check for missing values"
   ]
  },
  {
   "cell_type": "code",
   "execution_count": 12,
   "id": "f3e3bf9d",
   "metadata": {},
   "outputs": [
    {
     "name": "stdout",
     "output_type": "stream",
     "text": [
      "participant_id    False\n",
      "age               False\n",
      "sex               False\n",
      "group             False\n",
      "CHQME             False\n",
      "CHQAM             False\n",
      "PSQI              False\n",
      "ESS               False\n",
      "Published         False\n",
      "LEFG               True\n",
      "dtype: bool participant_id     0\n",
      "age                0\n",
      "sex                0\n",
      "group              0\n",
      "CHQME              0\n",
      "CHQAM              0\n",
      "PSQI               0\n",
      "ESS                0\n",
      "Published          0\n",
      "LEFG              23\n",
      "dtype: int64\n"
     ]
    },
    {
     "data": {
      "text/plain": [
       "<AxesSubplot:title={'center':'Variables with missing values'}, ylabel='Number of missing values'>"
      ]
     },
     "execution_count": 12,
     "metadata": {},
     "output_type": "execute_result"
    },
    {
     "data": {
      "image/png": "[encoded data removed]",
      "text/plain": [
       "<Figure size 432x288 with 1 Axes>"
      ]
     },
     "metadata": {
      "needs_background": "light"
     },
     "output_type": "display_data"
    }
   ],
   "source": [
    "# check which columns might contain missing values\n",
    "\n",
    "print(data_set.isna().any(), data_set.isna().sum())\n",
    "data_set.isna().sum().plot(kind = \"bar\", alpha = 0.5, title = \"Variables with missing values\", ylabel = \"Number of missing values\", grid = True)\n",
    "\n",
    "# only the 'LEFG' column includes missing values (23, more precisely)"
   ]
  },
  {
   "cell_type": "code",
   "execution_count": 13,
   "id": "821aabb8",
   "metadata": {},
   "outputs": [
    {
     "name": "stdout",
     "output_type": "stream",
     "text": [
      "    participant_id  age sex group  CHQME  CHQAM  PSQI  ESS Published      LEFG\n",
      "0           sub-02   33   M    EC     19     17     4    4       Yes  2.221920\n",
      "2           sub-04   26   F    EC     20     20     1   10       Yes  2.612423\n",
      "4           sub-07   27   M    EC     21     16     4    8       Yes  2.528243\n",
      "5           sub-08   22   F    EC     15     19     1    4       Yes  3.427409\n",
      "10          sub-14   26   F    EC     15     27     3    5       Yes  2.747110\n",
      "..             ...  ...  ..   ...    ...    ...   ...  ...       ...       ...\n",
      "130        sub-141   23   F    EC     21     17     5    8       Yes  2.726486\n",
      "131        sub-142   25   F    EC     18     22     4    4       Yes  2.997560\n",
      "132        sub-143   23   F    LC     24     18     1    1       Yes  2.750960\n",
      "134        sub-145   32   F    LC     23     15     1    6       Yes  2.558474\n",
      "135        sub-146   24   F    EC     16     25     3    3       Yes  2.749730\n",
      "\n",
      "[113 rows x 10 columns]\n"
     ]
    }
   ],
   "source": [
    "# drop all rows with missing values\n",
    "\n",
    "cleaned_data = data_set.dropna()\n",
    "print(cleaned_data)"
   ]
  },
  {
   "cell_type": "code",
   "execution_count": 14,
   "id": "45705cba",
   "metadata": {},
   "outputs": [
    {
     "data": {
      "text/plain": [
       "Yes    113\n",
       "Name: Published, dtype: int64"
      ]
     },
     "execution_count": 14,
     "metadata": {},
     "output_type": "execute_result"
    }
   ],
   "source": [
    "# only published data are left after missing values have been removed\n",
    "\n",
    "cleaned_data.Published.value_counts()"
   ]
  },
  {
   "cell_type": "code",
   "execution_count": 15,
   "id": "09516ae5",
   "metadata": {},
   "outputs": [
    {
     "name": "stdout",
     "output_type": "stream",
     "text": [
      "     age sex group  CHQME  CHQAM  PSQI  ESS      LEFG\n",
      "0     33   M    EC     19     17     4    4  2.221920\n",
      "2     26   F    EC     20     20     1   10  2.612423\n",
      "4     27   M    EC     21     16     4    8  2.528243\n",
      "5     22   F    EC     15     19     1    4  3.427409\n",
      "10    26   F    EC     15     27     3    5  2.747110\n",
      "..   ...  ..   ...    ...    ...   ...  ...       ...\n",
      "130   23   F    EC     21     17     5    8  2.726486\n",
      "131   25   F    EC     18     22     4    4  2.997560\n",
      "132   23   F    LC     24     18     1    1  2.750960\n",
      "134   32   F    LC     23     15     1    6  2.558474\n",
      "135   24   F    EC     16     25     3    3  2.749730\n",
      "\n",
      "[113 rows x 8 columns]\n"
     ]
    },
    {
     "name": "stderr",
     "output_type": "stream",
     "text": [
      "<ipython-input-15-d246b89f2a3e>:3: SettingWithCopyWarning: \n",
      "A value is trying to be set on a copy of a slice from a DataFrame\n",
      "\n",
      "See the caveats in the documentation: https://pandas.pydata.org/pandas-docs/stable/user_guide/indexing.html#returning-a-view-versus-a-copy\n",
      "  cleaned_data.drop([\"participant_id\", \"Published\"], inplace = True, axis = 1)\n"
     ]
    }
   ],
   "source": [
    "# remove participant_id and Published columns from dataset\n",
    "\n",
    "cleaned_data.drop([\"participant_id\", \"Published\"], inplace = True, axis = 1)\n",
    "print(cleaned_data)"
   ]
  },
  {
   "cell_type": "code",
   "execution_count": 16,
   "id": "6ca3dff2",
   "metadata": {},
   "outputs": [
    {
     "name": "stdout",
     "output_type": "stream",
     "text": [
      "     age sex group  CHQME  CHQAM  PSQI  ESS      LEFG\n",
      "0     33   M    EC     19     17     4    4  2.221920\n",
      "1     26   F    EC     20     20     1   10  2.612423\n",
      "2     27   M    EC     21     16     4    8  2.528243\n",
      "3     22   F    EC     15     19     1    4  3.427409\n",
      "4     26   F    EC     15     27     3    5  2.747110\n",
      "..   ...  ..   ...    ...    ...   ...  ...       ...\n",
      "108   23   F    EC     21     17     5    8  2.726486\n",
      "109   25   F    EC     18     22     4    4  2.997560\n",
      "110   23   F    LC     24     18     1    1  2.750960\n",
      "111   32   F    LC     23     15     1    6  2.558474\n",
      "112   24   F    EC     16     25     3    3  2.749730\n",
      "\n",
      "[113 rows x 8 columns]\n"
     ]
    }
   ],
   "source": [
    "# reset index of dataframe\n",
    "\n",
    "cleaned_data.reset_index(drop = True, inplace = True)\n",
    "print(cleaned_data)"
   ]
  },
  {
   "cell_type": "markdown",
   "id": "3a188aa9",
   "metadata": {},
   "source": [
    "#### 1.4.3 Check for outliers"
   ]
  },
  {
   "cell_type": "code",
   "execution_count": 17,
   "id": "0b2794d4",
   "metadata": {},
   "outputs": [
    {
     "data": {
      "text/plain": [
       "<AxesSubplot:>"
      ]
     },
     "execution_count": 17,
     "metadata": {},
     "output_type": "execute_result"
    },
    {
     "data": {
      "image/png": "[encoded data removed]",
      "text/plain": [
       "<Figure size 432x288 with 1 Axes>"
      ]
     },
     "metadata": {
      "needs_background": "light"
     },
     "output_type": "display_data"
    }
   ],
   "source": [
    "# create boxplot for data stemming from rating scales CHQME, CHQAM\n",
    "\n",
    "cleaned_data.boxplot(column = [\"CHQME\", \"CHQAM\"], fontsize = 12)"
   ]
  },
  {
   "cell_type": "code",
   "execution_count": 18,
   "id": "588163b0",
   "metadata": {},
   "outputs": [
    {
     "data": {
      "text/plain": [
       "<AxesSubplot:>"
      ]
     },
     "execution_count": 18,
     "metadata": {},
     "output_type": "execute_result"
    },
    {
     "data": {
      "image/png": "[encoded data removed]",
      "text/plain": [
       "<Figure size 432x288 with 1 Axes>"
      ]
     },
     "metadata": {
      "needs_background": "light"
     },
     "output_type": "display_data"
    }
   ],
   "source": [
    "# create boxplot for data stemming from rating scales PSQI, ESS\n",
    "\n",
    "cleaned_data.boxplot(column = [\"PSQI\", \"ESS\"], fontsize = 12)"
   ]
  },
  {
   "cell_type": "code",
   "execution_count": 19,
   "id": "13158ee2",
   "metadata": {},
   "outputs": [
    {
     "data": {
      "text/plain": [
       "<AxesSubplot:>"
      ]
     },
     "execution_count": 19,
     "metadata": {},
     "output_type": "execute_result"
    },
    {
     "data": {
      "image/png": "[encoded data removed]",
      "text/plain": [
       "<Figure size 432x288 with 1 Axes>"
      ]
     },
     "metadata": {
      "needs_background": "light"
     },
     "output_type": "display_data"
    }
   ],
   "source": [
    "# create boxplot for variable LEFG (mean cortical thickness within the significant cluster in the left entorhinal and fusiform gyri) \n",
    "\n",
    "cleaned_data.boxplot(column = [\"LEFG\"], fontsize = 12)"
   ]
  },
  {
   "cell_type": "code",
   "execution_count": 20,
   "id": "c03bc7cc",
   "metadata": {},
   "outputs": [
    {
     "data": {
      "image/png": "[encoded data removed]",
      "text/plain": [
       "<Figure size 864x432 with 1 Axes>"
      ]
     },
     "metadata": {},
     "output_type": "display_data"
    }
   ],
   "source": [
    "# plot variable distributions with violinplot \n",
    "\n",
    "import seaborn as sns\n",
    "import matplotlib.pyplot as plt\n",
    "\n",
    "sns.set_theme(style = \"whitegrid\")\n",
    "plt.figure(figsize = (12,6))\n",
    "ax = sns.violinplot(data = cleaned_data, inner = \"quart\", palette = \"vlag\", scale = \"width\")"
   ]
  },
  {
   "cell_type": "markdown",
   "id": "2b9f8eae",
   "metadata": {},
   "source": [
    "#### 1.4.4 Save the processed dataframe"
   ]
  },
  {
   "cell_type": "code",
   "execution_count": 21,
   "id": "5b3448cb",
   "metadata": {},
   "outputs": [],
   "source": [
    "# save cleaned dataset in a seperate tsv file for future analyses\n",
    "\n",
    "cleaned_data.to_csv(\"path\", sep=\"\\t\", index=False)"
   ]
  },
  {
   "cell_type": "markdown",
   "id": "34592f73",
   "metadata": {},
   "source": [
    "## 2. Data analysis"
   ]
  },
  {
   "cell_type": "markdown",
   "id": "028e76ad",
   "metadata": {},
   "source": [
    "### 2.1 Descriptive analyses"
   ]
  },
  {
   "cell_type": "markdown",
   "id": "2e2bbff1",
   "metadata": {},
   "source": [
    "#### 2.1.1 Descriptive statistics"
   ]
  },
  {
   "cell_type": "code",
   "execution_count": 22,
   "id": "87ab4cae",
   "metadata": {},
   "outputs": [
    {
     "name": "stdout",
     "output_type": "stream",
     "text": [
      "F    71\n",
      "M    42\n",
      "Name: sex, dtype: int64 F    0.628319\n",
      "M    0.371681\n",
      "Name: sex, dtype: float64\n"
     ]
    },
    {
     "data": {
      "text/plain": [
       "<AxesSubplot:title={'center':'Female vs. male participants'}>"
      ]
     },
     "execution_count": 22,
     "metadata": {},
     "output_type": "execute_result"
    },
    {
     "data": {
      "image/png": "[encoded data removed]",
      "text/plain": [
       "<Figure size 432x288 with 1 Axes>"
      ]
     },
     "metadata": {},
     "output_type": "display_data"
    }
   ],
   "source": [
    "# show proportion of sexes\n",
    "\n",
    "print(cleaned_data.sex.value_counts(), cleaned_data.sex.value_counts(\"F\"))\n",
    "cleaned_data[\"sex\"].value_counts().plot(kind = 'bar', title = \"Female vs. male participants\", rot = 45, color = \"orange\", alpha = 0.8)"
   ]
  },
  {
   "cell_type": "code",
   "execution_count": 23,
   "id": "c51afb6c",
   "metadata": {},
   "outputs": [
    {
     "data": {
      "text/plain": [
       "Text(0.5, 1.0, 'Distribution of age')"
      ]
     },
     "execution_count": 23,
     "metadata": {},
     "output_type": "execute_result"
    },
    {
     "data": {
      "image/png": "[encoded data removed]",
      "text/plain": [
       "<Figure size 720x360 with 1 Axes>"
      ]
     },
     "metadata": {},
     "output_type": "display_data"
    }
   ],
   "source": [
    "# show age distribution of cleaned dataset\n",
    "\n",
    "plt.figure(figsize = (10, 5))\n",
    "plt.style.use('ggplot')\n",
    "plt.hist(cleaned_data[\"age\"], bins = 15)\n",
    "plt.xlabel('Age', fontsize = 12)\n",
    "plt.ylabel('Count', fontsize = 12)\n",
    "plt.title('Distribution of age', fontsize = 15)"
   ]
  },
  {
   "cell_type": "markdown",
   "id": "e2d5d46b",
   "metadata": {},
   "source": [
    "#### 2.1.2 Descriptive analyses of sub datasets"
   ]
  },
  {
   "cell_type": "markdown",
   "id": "14efae3d",
   "metadata": {},
   "source": [
    "As the goal of the study was to compare early (EC) and late (LC) chronotypes, the data will be split into two groups for further analyses. To double check and compare numbers, I will apply to methods: groupby and splitting the dataset into two subsets."
   ]
  },
  {
   "cell_type": "code",
   "execution_count": 24,
   "id": "d50312e5",
   "metadata": {},
   "outputs": [
    {
     "name": "stdout",
     "output_type": "stream",
     "text": [
      "    age sex group  CHQME  CHQAM  PSQI  ESS      LEFG\n",
      "0    33   M    EC     19     17     4    4  2.221920\n",
      "1    26   F    EC     20     20     1   10  2.612423\n",
      "2    27   M    EC     21     16     4    8  2.528243\n",
      "3    22   F    EC     15     19     1    4  3.427409\n",
      "4    26   F    EC     15     27     3    5  2.747110\n",
      "10   20   M    LC     26     19     3    3  3.637643\n",
      "11   22   M    LC     30     24     2    4  2.791802\n",
      "12   22   F    LC     30     28     3    4  3.057604\n",
      "13   24   F    LC     30     22     3    9  2.973411\n",
      "15   20   F    LC     24     24     5    7  3.138291\n",
      "        age                                                    CHQME  \\\n",
      "      count       mean       std   min   25%   50%   75%   max count   \n",
      "group                                                                  \n",
      "EC     57.0  24.666667  3.709704  19.0  22.0  24.0  26.0  35.0  57.0   \n",
      "LC     56.0  23.785714  3.223292  18.0  22.0  23.0  25.0  33.0  56.0   \n",
      "\n",
      "                  ...   ESS        LEFG                                \\\n",
      "            mean  ...   75%   max count      mean       std       min   \n",
      "group             ...                                                   \n",
      "EC     16.614035  ...  8.00  10.0  57.0  2.676822  0.325480  2.155443   \n",
      "LC     26.642857  ...  8.25  10.0  56.0  2.929816  0.317377  2.148740   \n",
      "\n",
      "                                               \n",
      "            25%       50%       75%       max  \n",
      "group                                          \n",
      "EC     2.437362  2.612423  2.854649  3.427409  \n",
      "LC     2.726168  2.907958  3.084435  3.773190  \n",
      "\n",
      "[2 rows x 48 columns]\n"
     ]
    }
   ],
   "source": [
    "# group dataset by variable group\n",
    "\n",
    "grouped_data = cleaned_data.groupby(\"group\")\n",
    "print(grouped_data.head())\n",
    "\n",
    "print(grouped_data.describe()) "
   ]
  },
  {
   "cell_type": "code",
   "execution_count": 25,
   "id": "9e12a086",
   "metadata": {},
   "outputs": [
    {
     "name": "stdout",
     "output_type": "stream",
     "text": [
      "   age sex group  CHQME  CHQAM  PSQI  ESS      LEFG\n",
      "0   33   M    EC     19     17     4    4  2.221920\n",
      "1   26   F    EC     20     20     1   10  2.612423\n",
      "2   27   M    EC     21     16     4    8  2.528243\n",
      "3   22   F    EC     15     19     1    4  3.427409\n",
      "4   26   F    EC     15     27     3    5  2.747110\n",
      "(57, 8)\n",
      "             age      CHQME      CHQAM       PSQI        ESS       LEFG\n",
      "count  57.000000  57.000000  57.000000  57.000000  57.000000  57.000000\n",
      "mean   24.666667  16.614035  20.561404   2.982456   6.157895   2.676822\n",
      "std     3.709704   2.782306   4.013449   1.217304   2.839702   0.325480\n",
      "min    19.000000  11.000000  13.000000   1.000000   0.000000   2.155443\n",
      "25%    22.000000  15.000000  17.000000   2.000000   4.000000   2.437362\n",
      "50%    24.000000  17.000000  20.000000   3.000000   7.000000   2.612423\n",
      "75%    26.000000  19.000000  24.000000   4.000000   8.000000   2.854649\n",
      "max    35.000000  21.000000  29.000000   5.000000  10.000000   3.427409\n"
     ]
    }
   ],
   "source": [
    "# create sub dataset EC (early chronotype)\n",
    "\n",
    "cleaned_data_EC = cleaned_data[cleaned_data[\"group\"]==\"EC\"]\n",
    "print(cleaned_data_EC.head())\n",
    "print(cleaned_data_EC.shape)\n",
    "print(cleaned_data_EC.describe())"
   ]
  },
  {
   "cell_type": "code",
   "execution_count": 26,
   "id": "2a5117e3",
   "metadata": {},
   "outputs": [
    {
     "data": {
      "text/plain": [
       "<AxesSubplot:>"
      ]
     },
     "execution_count": 26,
     "metadata": {},
     "output_type": "execute_result"
    },
    {
     "data": {
      "image/png": "[encoded data removed]",
      "text/plain": [
       "<Figure size 864x432 with 1 Axes>"
      ]
     },
     "metadata": {},
     "output_type": "display_data"
    }
   ],
   "source": [
    "# create boxplots to check for outliers\n",
    "\n",
    "sns.set_style(\"whitegrid\")\n",
    "\n",
    "color = {\n",
    "    \"boxes\": \"DarkGreen\",\n",
    "    \"whiskers\": \"DarkOrange\",\n",
    "    \"medians\": \"DarkBlue\",\n",
    "    \"caps\": \"Gray\",\n",
    "}\n",
    "\n",
    "cleaned_data_EC.plot.box(color = color, sym = \"r+\", figsize = (12, 6))"
   ]
  },
  {
   "cell_type": "code",
   "execution_count": 27,
   "id": "33759e5e",
   "metadata": {},
   "outputs": [
    {
     "name": "stdout",
     "output_type": "stream",
     "text": [
      "    age sex group  CHQME  CHQAM  PSQI  ESS      LEFG\n",
      "10   20   M    LC     26     19     3    3  3.637643\n",
      "11   22   M    LC     30     24     2    4  2.791802\n",
      "12   22   F    LC     30     28     3    4  3.057604\n",
      "13   24   F    LC     30     22     3    9  2.973411\n",
      "15   20   F    LC     24     24     5    7  3.138291\n",
      "(56, 8)\n",
      "             age      CHQME      CHQAM       PSQI        ESS       LEFG\n",
      "count  56.000000  56.000000  56.000000  56.000000  56.000000  56.000000\n",
      "mean   23.785714  26.642857  20.892857   2.892857   6.089286   2.929816\n",
      "std     3.223292   2.596701   3.581156   1.201190   2.718802   0.317377\n",
      "min    18.000000  22.000000  11.000000   0.000000   0.000000   2.148740\n",
      "25%    22.000000  24.000000  18.000000   2.000000   4.000000   2.726168\n",
      "50%    23.000000  27.000000  21.500000   3.000000   6.500000   2.907958\n",
      "75%    25.000000  28.250000  24.000000   4.000000   8.250000   3.084435\n",
      "max    33.000000  32.000000  28.000000   5.000000  10.000000   3.773190\n"
     ]
    }
   ],
   "source": [
    "# create sub dataset LC (late chronotype)\n",
    "\n",
    "cleaned_data_LC = cleaned_data[cleaned_data[\"group\"] == \"LC\"]\n",
    "print(cleaned_data_LC.head())\n",
    "print(cleaned_data_LC.shape)\n",
    "print(cleaned_data_LC.describe())"
   ]
  },
  {
   "cell_type": "code",
   "execution_count": 28,
   "id": "d602ca4a",
   "metadata": {},
   "outputs": [
    {
     "data": {
      "text/plain": [
       "<AxesSubplot:>"
      ]
     },
     "execution_count": 28,
     "metadata": {},
     "output_type": "execute_result"
    },
    {
     "data": {
      "image/png": "[encoded data removed]",
      "text/plain": [
       "<Figure size 864x432 with 1 Axes>"
      ]
     },
     "metadata": {},
     "output_type": "display_data"
    }
   ],
   "source": [
    "# create boxplots to check for outliers\n",
    "\n",
    "sns.set_style(\"whitegrid\")\n",
    "\n",
    "color = {\n",
    "    \"boxes\": \"DarkGreen\",\n",
    "    \"whiskers\": \"DarkOrange\",\n",
    "    \"medians\": \"DarkBlue\",\n",
    "    \"caps\": \"Gray\",\n",
    "}\n",
    "\n",
    "cleaned_data_LC.plot.box(color = color, sym = \"r+\", figsize = (12, 6))"
   ]
  },
  {
   "cell_type": "markdown",
   "id": "2a786619",
   "metadata": {},
   "source": [
    "### 2.2 Inferential analyses"
   ]
  },
  {
   "cell_type": "markdown",
   "id": "bfdb9ad9",
   "metadata": {},
   "source": [
    "#### 2.2.1 Correlations"
   ]
  },
  {
   "cell_type": "code",
   "execution_count": 29,
   "id": "0d3e12ee",
   "metadata": {},
   "outputs": [
    {
     "data": {
      "text/html": [
       "<div>\n",
       "<style scoped>\n",
       "    .dataframe tbody tr th:only-of-type {\n",
       "        vertical-align: middle;\n",
       "    }\n",
       "\n",
       "    .dataframe tbody tr th {\n",
       "        vertical-align: top;\n",
       "    }\n",
       "\n",
       "    .dataframe thead th {\n",
       "        text-align: right;\n",
       "    }\n",
       "</style>\n",
       "<table border=\"1\" class=\"dataframe\">\n",
       "  <thead>\n",
       "    <tr style=\"text-align: right;\">\n",
       "      <th></th>\n",
       "      <th>age</th>\n",
       "      <th>CHQME</th>\n",
       "      <th>CHQAM</th>\n",
       "      <th>PSQI</th>\n",
       "      <th>ESS</th>\n",
       "      <th>LEFG</th>\n",
       "    </tr>\n",
       "  </thead>\n",
       "  <tbody>\n",
       "    <tr>\n",
       "      <th>age</th>\n",
       "      <td>1.000000</td>\n",
       "      <td>-0.117129</td>\n",
       "      <td>-0.062657</td>\n",
       "      <td>0.033151</td>\n",
       "      <td>-0.045492</td>\n",
       "      <td>-0.145327</td>\n",
       "    </tr>\n",
       "    <tr>\n",
       "      <th>CHQME</th>\n",
       "      <td>-0.117129</td>\n",
       "      <td>1.000000</td>\n",
       "      <td>0.050394</td>\n",
       "      <td>0.026095</td>\n",
       "      <td>0.061523</td>\n",
       "      <td>0.410584</td>\n",
       "    </tr>\n",
       "    <tr>\n",
       "      <th>CHQAM</th>\n",
       "      <td>-0.062657</td>\n",
       "      <td>0.050394</td>\n",
       "      <td>1.000000</td>\n",
       "      <td>0.207318</td>\n",
       "      <td>-0.039262</td>\n",
       "      <td>0.221554</td>\n",
       "    </tr>\n",
       "    <tr>\n",
       "      <th>PSQI</th>\n",
       "      <td>0.033151</td>\n",
       "      <td>0.026095</td>\n",
       "      <td>0.207318</td>\n",
       "      <td>1.000000</td>\n",
       "      <td>0.055865</td>\n",
       "      <td>-0.010243</td>\n",
       "    </tr>\n",
       "    <tr>\n",
       "      <th>ESS</th>\n",
       "      <td>-0.045492</td>\n",
       "      <td>0.061523</td>\n",
       "      <td>-0.039262</td>\n",
       "      <td>0.055865</td>\n",
       "      <td>1.000000</td>\n",
       "      <td>0.073330</td>\n",
       "    </tr>\n",
       "    <tr>\n",
       "      <th>LEFG</th>\n",
       "      <td>-0.145327</td>\n",
       "      <td>0.410584</td>\n",
       "      <td>0.221554</td>\n",
       "      <td>-0.010243</td>\n",
       "      <td>0.073330</td>\n",
       "      <td>1.000000</td>\n",
       "    </tr>\n",
       "  </tbody>\n",
       "</table>\n",
       "</div>"
      ],
      "text/plain": [
       "            age     CHQME     CHQAM      PSQI       ESS      LEFG\n",
       "age    1.000000 -0.117129 -0.062657  0.033151 -0.045492 -0.145327\n",
       "CHQME -0.117129  1.000000  0.050394  0.026095  0.061523  0.410584\n",
       "CHQAM -0.062657  0.050394  1.000000  0.207318 -0.039262  0.221554\n",
       "PSQI   0.033151  0.026095  0.207318  1.000000  0.055865 -0.010243\n",
       "ESS   -0.045492  0.061523 -0.039262  0.055865  1.000000  0.073330\n",
       "LEFG  -0.145327  0.410584  0.221554 -0.010243  0.073330  1.000000"
      ]
     },
     "execution_count": 29,
     "metadata": {},
     "output_type": "execute_result"
    }
   ],
   "source": [
    "# compute correlation for all interval scaled variables\n",
    "\n",
    "cleaned_data.corr()"
   ]
  },
  {
   "cell_type": "code",
   "execution_count": 30,
   "id": "a87ed702",
   "metadata": {},
   "outputs": [
    {
     "data": {
      "text/plain": [
       "Text(0.5, 1.0, 'Correlations between variables')"
      ]
     },
     "execution_count": 30,
     "metadata": {},
     "output_type": "execute_result"
    },
    {
     "data": {
      "image/png": "[encoded data removed]",
      "text/plain": [
       "<Figure size 720x504 with 2 Axes>"
      ]
     },
     "metadata": {},
     "output_type": "display_data"
    }
   ],
   "source": [
    "# show heatmap for all correlations\n",
    "\n",
    "sns.set_palette('colorblind')\n",
    "plt.figure(figsize = (10,7))\n",
    "sns.heatmap(cleaned_data.corr(), xticklabels = False, cmap = 'vlag', alpha = 0.8)\n",
    "plt.title(\"Correlations between variables\", fontsize = 15)"
   ]
  },
  {
   "cell_type": "code",
   "execution_count": 31,
   "id": "022092f2",
   "metadata": {},
   "outputs": [
    {
     "name": "stdout",
     "output_type": "stream",
     "text": [
      "     X      Y   method alternative    n         r          CI95%     p-unc  \\\n",
      "0  age  CHQME  pearson   two-sided  113 -0.117129   [-0.3, 0.07]  0.216640   \n",
      "1  age  CHQAM  pearson   two-sided  113 -0.062657  [-0.24, 0.12]  0.509703   \n",
      "2  age   PSQI  pearson   two-sided  113  0.033151  [-0.15, 0.22]  0.727408   \n",
      "3  age    ESS  pearson   two-sided  113 -0.045492  [-0.23, 0.14]  0.632327   \n",
      "4  age   LEFG  pearson   two-sided  113 -0.145327  [-0.32, 0.04]  0.124578   \n",
      "\n",
      "    BF10     power  \n",
      "0   0.25  0.235966  \n",
      "1  0.146  0.101132  \n",
      "2  0.125  0.063932  \n",
      "3  0.132  0.076553  \n",
      "4  0.377  0.337730  \n",
      "     X      Y   method alternative    n         r          CI95%     p-unc  \\\n",
      "0  age  CHQME  pearson   two-sided  113 -0.117129   [-0.3, 0.07]  0.216640   \n",
      "1  age  CHQAM  pearson   two-sided  113 -0.062657  [-0.24, 0.12]  0.509703   \n",
      "2  age   PSQI  pearson   two-sided  113  0.033151  [-0.15, 0.22]  0.727408   \n",
      "3  age    ESS  pearson   two-sided  113 -0.045492  [-0.23, 0.14]  0.632327   \n",
      "4  age   LEFG  pearson   two-sided  113 -0.145327  [-0.32, 0.04]  0.124578   \n",
      "\n",
      "    BF10     power    p_corr  \n",
      "0   0.25  0.235966  0.649921  \n",
      "1  0.146  0.101132  0.839316  \n",
      "2  0.125  0.063932  0.839316  \n",
      "3  0.132  0.076553  0.839316  \n",
      "4  0.377  0.337730  0.467168  \n"
     ]
    },
    {
     "data": {
      "text/html": [
       "<div>\n",
       "<style scoped>\n",
       "    .dataframe tbody tr th:only-of-type {\n",
       "        vertical-align: middle;\n",
       "    }\n",
       "\n",
       "    .dataframe tbody tr th {\n",
       "        vertical-align: top;\n",
       "    }\n",
       "\n",
       "    .dataframe thead th {\n",
       "        text-align: right;\n",
       "    }\n",
       "</style>\n",
       "<table border=\"1\" class=\"dataframe\">\n",
       "  <thead>\n",
       "    <tr style=\"text-align: right;\">\n",
       "      <th></th>\n",
       "      <th>X</th>\n",
       "      <th>Y</th>\n",
       "      <th>method</th>\n",
       "      <th>alternative</th>\n",
       "      <th>n</th>\n",
       "      <th>r</th>\n",
       "      <th>CI95%</th>\n",
       "      <th>p-unc</th>\n",
       "      <th>BF10</th>\n",
       "      <th>power</th>\n",
       "      <th>p_corr</th>\n",
       "    </tr>\n",
       "  </thead>\n",
       "  <tbody>\n",
       "    <tr>\n",
       "      <th>8</th>\n",
       "      <td>CHQME</td>\n",
       "      <td>LEFG</td>\n",
       "      <td>pearson</td>\n",
       "      <td>two-sided</td>\n",
       "      <td>113</td>\n",
       "      <td>0.410584</td>\n",
       "      <td>[0.24, 0.55]</td>\n",
       "      <td>0.000006</td>\n",
       "      <td>2774.687</td>\n",
       "      <td>0.995783</td>\n",
       "      <td>0.000094</td>\n",
       "    </tr>\n",
       "  </tbody>\n",
       "</table>\n",
       "</div>"
      ],
      "text/plain": [
       "       X     Y   method alternative    n         r         CI95%     p-unc  \\\n",
       "8  CHQME  LEFG  pearson   two-sided  113  0.410584  [0.24, 0.55]  0.000006   \n",
       "\n",
       "       BF10     power    p_corr  \n",
       "8  2774.687  0.995783  0.000094  "
      ]
     },
     "execution_count": 31,
     "metadata": {},
     "output_type": "execute_result"
    }
   ],
   "source": [
    "import pingouin as pg\n",
    "\n",
    "# compute pairwise correlations\n",
    "\n",
    "data_cor = pg.pairwise_corr(cleaned_data, method = \"pearson\")\n",
    "print(data_cor.head())\n",
    "\n",
    "# compute corrected p values\n",
    "\n",
    "data_cor['p_corr'] = pg.multicomp(data_cor['p-unc'].to_numpy(), method = 'fdr_bh')[1]\n",
    "print(data_cor.head())\n",
    "\n",
    "# check for significance\n",
    "\n",
    "data_cor[data_cor['p_corr'] <= 0.05]"
   ]
  },
  {
   "cell_type": "code",
   "execution_count": 32,
   "id": "dce97903",
   "metadata": {},
   "outputs": [
    {
     "data": {
      "text/plain": [
       "Text(0.5, 1.0, 'Correlation between CHQME and LEFG')"
      ]
     },
     "execution_count": 32,
     "metadata": {},
     "output_type": "execute_result"
    },
    {
     "data": {
      "image/png": "[encoded data removed]",
      "text/plain": [
       "<Figure size 648x432 with 1 Axes>"
      ]
     },
     "metadata": {},
     "output_type": "display_data"
    }
   ],
   "source": [
    "# show significant correlation between CHQME and LEFG in scatterplot to present on a poster at a research conference\n",
    "\n",
    "sns.set_context(\"poster\")\n",
    "plt.figure(figsize = (9,6))\n",
    "sns.scatterplot(x = cleaned_data[\"CHQME\"], y = cleaned_data[\"LEFG\"], color = \"darkgreen\")\n",
    "plt.xlabel('CHQME')\n",
    "plt.title('Correlation between CHQME and LEFG')"
   ]
  },
  {
   "cell_type": "markdown",
   "id": "3e1aee47",
   "metadata": {},
   "source": [
    "#### 2.2.2 t-Test"
   ]
  },
  {
   "cell_type": "markdown",
   "id": "603c1b9c",
   "metadata": {},
   "source": [
    "Compute independent samples t-Test to find out whether the statistics of EC vs. LC group are significantly different regarding their respective LEFG values."
   ]
  },
  {
   "cell_type": "code",
   "execution_count": 33,
   "id": "ab094e92",
   "metadata": {},
   "outputs": [
    {
     "name": "stdout",
     "output_type": "stream",
     "text": [
      "2.676821645385965 0.322612356201287\n",
      "2.9298158006071424 0.31453061269266647\n"
     ]
    }
   ],
   "source": [
    "# descriptive statistics\n",
    "\n",
    "import numpy as np\n",
    "print(np.mean(cleaned_data_EC[\"LEFG\"]), np.std(cleaned_data_EC[\"LEFG\"]))\n",
    "print(np.mean(cleaned_data_LC[\"LEFG\"]), np.std(cleaned_data_LC[\"LEFG\"]))"
   ]
  },
  {
   "cell_type": "code",
   "execution_count": 34,
   "id": "657f5222",
   "metadata": {},
   "outputs": [
    {
     "name": "stdout",
     "output_type": "stream",
     "text": [
      "            W      pval  normal\n",
      "LEFG  0.94537  0.012193   False\n",
      "             W      pval  normal\n",
      "LEFG  0.973086  0.242428    True\n",
      "               W     pval  equal_var\n",
      "levene  0.166541  0.68399       True\n"
     ]
    }
   ],
   "source": [
    "# test assumptions\n",
    "\n",
    "# 1. test for normality\n",
    "print(pg.normality(cleaned_data_EC[\"LEFG\"]))\n",
    "print(pg.normality(cleaned_data_LC[\"LEFG\"]))\n",
    "# not fulfilled\n",
    "\n",
    "# 2. homogeneity of variance\n",
    "print(pg.homoscedasticity([cleaned_data_EC[\"LEFG\"].to_numpy(), cleaned_data_LC[\"LEFG\"].to_numpy()]))\n",
    "# fulfilled"
   ]
  },
  {
   "cell_type": "code",
   "execution_count": 35,
   "id": "3d3f421a",
   "metadata": {},
   "outputs": [
    {
     "data": {
      "text/html": [
       "<div>\n",
       "<style scoped>\n",
       "    .dataframe tbody tr th:only-of-type {\n",
       "        vertical-align: middle;\n",
       "    }\n",
       "\n",
       "    .dataframe tbody tr th {\n",
       "        vertical-align: top;\n",
       "    }\n",
       "\n",
       "    .dataframe thead th {\n",
       "        text-align: right;\n",
       "    }\n",
       "</style>\n",
       "<table border=\"1\" class=\"dataframe\">\n",
       "  <thead>\n",
       "    <tr style=\"text-align: right;\">\n",
       "      <th></th>\n",
       "      <th>T</th>\n",
       "      <th>dof</th>\n",
       "      <th>alternative</th>\n",
       "      <th>p-val</th>\n",
       "      <th>CI95%</th>\n",
       "      <th>cohen-d</th>\n",
       "      <th>BF10</th>\n",
       "      <th>power</th>\n",
       "    </tr>\n",
       "  </thead>\n",
       "  <tbody>\n",
       "    <tr>\n",
       "      <th>T-test</th>\n",
       "      <td>-4.183427</td>\n",
       "      <td>110.994003</td>\n",
       "      <td>two-sided</td>\n",
       "      <td>0.000058</td>\n",
       "      <td>[-0.37, -0.13]</td>\n",
       "      <td>0.786941</td>\n",
       "      <td>357.083</td>\n",
       "      <td>0.985595</td>\n",
       "    </tr>\n",
       "  </tbody>\n",
       "</table>\n",
       "</div>"
      ],
      "text/plain": [
       "               T         dof alternative     p-val           CI95%   cohen-d  \\\n",
       "T-test -4.183427  110.994003   two-sided  0.000058  [-0.37, -0.13]  0.786941   \n",
       "\n",
       "           BF10     power  \n",
       "T-test  357.083  0.985595  "
      ]
     },
     "execution_count": 35,
     "metadata": {},
     "output_type": "execute_result"
    }
   ],
   "source": [
    "# Although the normality assumption was not fulfilled in the case of the EC group, the t-Test was still calculated because n > 30 in both groups. \n",
    "\n",
    "pg.ttest(cleaned_data_EC[\"LEFG\"], cleaned_data_LC[\"LEFG\"], paired=False)"
   ]
  },
  {
   "cell_type": "markdown",
   "id": "f90d2151",
   "metadata": {},
   "source": [
    "The t-Test is significant, implying that we can assume a significant difference between early and late chronotype groups regarding their LEFG thickness."
   ]
  },
  {
   "cell_type": "markdown",
   "id": "800134ea",
   "metadata": {},
   "source": [
    "#### 2.2.3 Regression"
   ]
  },
  {
   "cell_type": "markdown",
   "id": "81113a7f",
   "metadata": {},
   "source": [
    "In the following, a simple regression model with LEFG values being predicted by CHQAM values will be tested."
   ]
  },
  {
   "cell_type": "code",
   "execution_count": 36,
   "id": "29c83627",
   "metadata": {},
   "outputs": [
    {
     "name": "stdout",
     "output_type": "stream",
     "text": [
      "                            OLS Regression Results                            \n",
      "==============================================================================\n",
      "Dep. Variable:                   LEFG   R-squared:                       0.049\n",
      "Model:                            OLS   Adj. R-squared:                  0.041\n",
      "Method:                 Least Squares   F-statistic:                     5.730\n",
      "Date:                Thu, 17 Mar 2022   Prob (F-statistic):             0.0184\n",
      "Time:                        18:49:10   Log-Likelihood:                -36.525\n",
      "No. Observations:                 113   AIC:                             77.05\n",
      "Df Residuals:                     111   BIC:                             82.50\n",
      "Df Model:                           1                                         \n",
      "Covariance Type:            nonrobust                                         \n",
      "==============================================================================\n",
      "                 coef    std err          t      P>|t|      [0.025      0.975]\n",
      "------------------------------------------------------------------------------\n",
      "Intercept      2.3852      0.177     13.471      0.000       2.034       2.736\n",
      "CHQAM          0.0201      0.008      2.394      0.018       0.003       0.037\n",
      "==============================================================================\n",
      "Omnibus:                        2.576   Durbin-Watson:                   2.023\n",
      "Prob(Omnibus):                  0.276   Jarque-Bera (JB):                2.580\n",
      "Skew:                           0.354   Prob(JB):                        0.275\n",
      "Kurtosis:                       2.784   Cond. No.                         118.\n",
      "==============================================================================\n",
      "\n",
      "Notes:\n",
      "[1] Standard Errors assume that the covariance matrix of the errors is correctly specified.\n"
     ]
    }
   ],
   "source": [
    "# predict DV LEFG with IV CHQME\n",
    "\n",
    "import statsmodels.formula.api as smf\n",
    "\n",
    "ls = smf.ols(\"LEFG ~ CHQAM\", cleaned_data).fit()\n",
    "print(ls.summary())"
   ]
  },
  {
   "cell_type": "code",
   "execution_count": 37,
   "id": "8666be40",
   "metadata": {},
   "outputs": [
    {
     "name": "stdout",
     "output_type": "stream",
     "text": [
      "             W      pval  normal\n",
      "LEFG  0.985395  0.258883    True\n",
      "              W      pval  normal\n",
      "CHQAM  0.980228  0.092875    True\n"
     ]
    }
   ],
   "source": [
    "# check assumptions\n",
    "\n",
    "# 1. normality of residuals\n",
    "\n",
    "print(pg.normality(cleaned_data[\"LEFG\"]))\n",
    "print(pg.normality(cleaned_data[\"CHQAM\"]))\n",
    "\n",
    "# fulfilled"
   ]
  },
  {
   "cell_type": "code",
   "execution_count": 38,
   "id": "68934ef2",
   "metadata": {},
   "outputs": [
    {
     "data": {
      "text/plain": [
       "Text(0, 0.5, 'LEFG')"
      ]
     },
     "execution_count": 38,
     "metadata": {},
     "output_type": "execute_result"
    },
    {
     "data": {
      "image/png": "[encoded data removed]",
      "text/plain": [
       "<Figure size 432x288 with 1 Axes>"
      ]
     },
     "metadata": {},
     "output_type": "display_data"
    }
   ],
   "source": [
    "# 2. linearity: relationship between X and mean of Y is linear\n",
    "\n",
    "sns.set_context(\"notebook\")\n",
    "sns.set_style(\"whitegrid\")\n",
    "plt.plot(cleaned_data[\"CHQAM\"], cleaned_data[\"LEFG\"], \"o\", color = \"black\");\n",
    "plt.title(\"Linear relationship between CHQAM and LEFG\", fontsize = 14)\n",
    "plt.xlabel(\"CHQAM\", fontsize = 12)\n",
    "plt.ylabel(\"LEFG\", fontsize = 12)\n",
    "\n",
    "# more or less fulfilled ;)"
   ]
  },
  {
   "cell_type": "code",
   "execution_count": 39,
   "id": "327f18cb",
   "metadata": {},
   "outputs": [
    {
     "data": {
      "text/plain": [
       "2.0231801075682228"
      ]
     },
     "execution_count": 39,
     "metadata": {},
     "output_type": "execute_result"
    }
   ],
   "source": [
    "# 3. independence: observations are independent of each other\n",
    "\n",
    "from statsmodels.stats.stattools import durbin_watson\n",
    "durbin_watson(ls.resid)\n",
    "\n",
    "# between 1.5 and 2.5 --> no correlation between residuals\n",
    "\n",
    "# fulfilled"
   ]
  },
  {
   "cell_type": "code",
   "execution_count": 40,
   "id": "570417df",
   "metadata": {},
   "outputs": [
    {
     "name": "stdout",
     "output_type": "stream",
     "text": [
      "                 W          pval  equal_var\n",
      "levene  210.741781  4.240488e-34      False\n",
      "{'Test Statistic': 0.9286920466522265, 'Test Statistic p-value': 0.6285460252479051, 'F-Statistic': 0.45576395509843665, 'F-Test p-value': 0.6351551672443978}\n"
     ]
    },
    {
     "data": {
      "image/png": "[encoded data removed]",
      "text/plain": [
       "<Figure size 432x288 with 1 Axes>"
      ]
     },
     "metadata": {},
     "output_type": "display_data"
    }
   ],
   "source": [
    "# 4. homoscedasticity: variance of residuals is the same for any value of x\n",
    "\n",
    "# Levene's test\n",
    "print(pg.homoscedasticity([cleaned_data[\"CHQAM\"].to_numpy(), cleaned_data[\"LEFG\"].to_numpy()]))\n",
    "# not fulfilled according to Levene's test result because test is significant --> heteroscedasticity\n",
    "\n",
    "# perform White's test which is also robust when assumption of normality of residuals has been violated\n",
    "from statsmodels.stats.diagnostic import het_white\n",
    "white_test = het_white(ls.resid,  ls.model.exog)\n",
    "labels = ['Test Statistic', 'Test Statistic p-value', 'F-Statistic', 'F-Test p-value']\n",
    "print(dict(zip(labels, white_test)))\n",
    "# not significant --> no heteroscedasticity\n",
    "\n",
    "# additional graphical check to be on the safe side\n",
    "plt.figure()\n",
    "plt.title(\"Residuals CHQAM vs. LEFG\", fontsize = 15)\n",
    "plt.ylabel(\"LEFG\")\n",
    "plt.scatter(ls.resid, cleaned_data[\"LEFG\"])\n",
    "plt.show()\n",
    "\n",
    "# as White's test was not significant and the graph looks also okay, homoscedasticity can be assumed\n",
    "# assumption fulfilled"
   ]
  },
  {
   "cell_type": "code",
   "execution_count": 41,
   "id": "7356c2ba",
   "metadata": {},
   "outputs": [
    {
     "name": "stderr",
     "output_type": "stream",
     "text": [
      "/Users/sophie/miniconda3/envs/data_analyses/lib/python3.8/site-packages/seaborn/_decorators.py:36: FutureWarning: Pass the following variables as keyword args: x, y. From version 0.12, the only valid positional argument will be `data`, and passing other arguments without an explicit keyword will result in an error or misinterpretation.\n",
      "  warnings.warn(\n"
     ]
    },
    {
     "data": {
      "text/plain": [
       "Text(0.5, 1.0, 'Actual vs. Predicted')"
      ]
     },
     "execution_count": 41,
     "metadata": {},
     "output_type": "execute_result"
    },
    {
     "data": {
      "image/png": "[encoded data removed]",
      "text/plain": [
       "<Figure size 432x288 with 1 Axes>"
      ]
     },
     "metadata": {},
     "output_type": "display_data"
    }
   ],
   "source": [
    "# create scatterplot with regression line to show relationship\n",
    "\n",
    "sns.regplot(cleaned_data[\"CHQAM\"], cleaned_data[\"LEFG\"])\n",
    "plt.title(\"Actual vs. Predicted\")"
   ]
  }
 ],
 "metadata": {
  "kernelspec": {
   "display_name": "data_analyses",
   "language": "python",
   "name": "data_analyses"
  },
  "language_info": {
   "codemirror_mode": {
    "name": "ipython",
    "version": 3
   },
   "file_extension": ".py",
   "mimetype": "text/x-python",
   "name": "python",
   "nbconvert_exporter": "python",
   "pygments_lexer": "ipython3",
   "version": "3.8.5"
  }
 },
 "nbformat": 4,
 "nbformat_minor": 5
}
